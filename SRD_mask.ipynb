{
 "cells": [
  {
   "cell_type": "code",
   "execution_count": 1,
   "metadata": {},
   "outputs": [],
   "source": [
    "import os\n",
    "import numpy as np\n",
    "import random\n",
    "import torch.utils.data as data\n",
    "import cv2\n",
    "import skimage\n",
    "from tqdm import tqdm"
   ]
  },
  {
   "cell_type": "code",
   "execution_count": 2,
   "metadata": {},
   "outputs": [],
   "source": [
    "from utils.utils_io import read_image, process_mask"
   ]
  },
  {
   "cell_type": "code",
   "execution_count": 22,
   "metadata": {},
   "outputs": [],
   "source": [
    "def compute_shadow_mask(shadow_image, shadow_free_image):\n",
    "        # convert to grayscale\n",
    "        shadow_image = skimage.color.rgb2gray(shadow_image)\n",
    "        shadow_free_image = skimage.color.rgb2gray(shadow_free_image)\n",
    "\n",
    "        # Blur the images\n",
    "        shadow_image = skimage.filters.gaussian(shadow_image, sigma=5)\n",
    "        shadow_free_image = skimage.filters.gaussian(shadow_free_image, sigma=5)\n",
    "\n",
    "        shadow_mask = np.abs(shadow_image - shadow_free_image)\n",
    "\n",
    "        # Binarize the mask using otsu thresholding\n",
    "        otsu_threshold = skimage.filters.threshold_otsu(shadow_mask)\n",
    "        shadow_mask = np.where(shadow_mask > otsu_threshold, 1, 0).astype(np.float32)\n",
    "        \n",
    "        return shadow_mask"
   ]
  },
  {
   "cell_type": "code",
   "execution_count": null,
   "metadata": {},
   "outputs": [],
   "source": [
    "def delete_images(paths):\n",
    "    for path in paths:\n",
    "        if os.path.exists(path):\n",
    "            os.remove(path)\n",
    "            print(f\"Deleted {path}\")"
   ]
  },
  {
   "cell_type": "code",
   "execution_count": 23,
   "metadata": {},
   "outputs": [],
   "source": [
    "def process_images(root_dir):\n",
    "    for subdir in ['train', 'test']:\n",
    "        # Percorsi delle cartelle\n",
    "        path_A = os.path.join(root_dir, subdir, f'{subdir}_A')  # Shadow images\n",
    "        path_B = os.path.join(root_dir, subdir, f'{subdir}_B')  # Masks\n",
    "        path_C = os.path.join(root_dir, subdir, f'{subdir}_C')  # Shadow-free images\n",
    "\n",
    "        # Lista dei file in test_B\n",
    "        file_list = os.listdir(path_B)\n",
    "\n",
    "        # Usa tqdm per mostrare la barra di progresso\n",
    "        for index, filename in tqdm(enumerate(file_list), total=len(file_list), desc=f\"Processing {subdir}\"):\n",
    "            file_path_B = os.path.join(path_B, filename)\n",
    "\n",
    "            if os.path.isfile(file_path_B):\n",
    "                # Leggi il shadow mask come immagine in scala di grigi\n",
    "                shadow_mask = np.round(read_image(file_path_B))\n",
    "\n",
    "                # Aggiungi una dimensione al mask (se necessario)\n",
    "                mask_to_check = np.expand_dims(shadow_mask, axis=2)\n",
    "\n",
    "                # Se il mask non rispetta il controllo, calcola una nuova shadow mask\n",
    "                if np.all(process_mask(mask_to_check, min_size=100, max_size=100) == 0):\n",
    "                    print(\"change\")\n",
    "                    # Percorsi per le immagini shadow e shadow-free\n",
    "                    shadow_image_path = os.path.join(path_A, filename)\n",
    "                    shadow_free_image_path = os.path.join(path_C, filename)\n",
    "\n",
    "                    # Carica le immagini necessarie per calcolare la shadow mask\n",
    "                    shadow_image = read_image(shadow_image_path)\n",
    "                    shadow_free_image = read_image(shadow_free_image_path)\n",
    "                    \n",
    "                    # Calcola una nuova shadow mask\n",
    "                    shadow_mask = compute_shadow_mask(shadow_image, shadow_free_image)\n",
    "\n",
    "                    # Assicurati che la maschera abbia un singolo canale prima di salvarla\n",
    "                    if shadow_mask.ndim > 2:\n",
    "                        shadow_mask = cv2.cvtColor(shadow_mask, cv2.COLOR_BGR2GRAY)\n",
    "\n",
    "                    # Sovrascrivi l'immagine con il nuovo mask (salvato come singolo canale)\n",
    "                    cv2.imwrite(file_path_B, shadow_mask)\n",
    "\n",
    "                    # Controlla nuovamente la nuova maschera\n",
    "                    mask_to_check = np.expand_dims(shadow_mask, axis=2)\n",
    "                    if np.all(process_mask(mask_to_check, min_size=100, max_size=100) == 0):\n",
    "                        print(f\"Mask still not valid, deleting images for {filename}...\")\n",
    "                        # Se la nuova maschera non rispetta ancora il controllo, elimina le immagini\n",
    "                        delete_images([shadow_image_path, file_path_B, shadow_free_image_path])\n"
   ]
  },
  {
   "cell_type": "code",
   "execution_count": 24,
   "metadata": {},
   "outputs": [
    {
     "name": "stderr",
     "output_type": "stream",
     "text": [
      "Processing train:   0%|          | 7/2680 [00:02<16:12,  2.75it/s]"
     ]
    },
    {
     "name": "stdout",
     "output_type": "stream",
     "text": [
      "change\n"
     ]
    },
    {
     "name": "stderr",
     "output_type": "stream",
     "text": [
      "Processing train:   3%|▎         | 87/2680 [02:12<52:24,  1.21s/it]  "
     ]
    },
    {
     "name": "stdout",
     "output_type": "stream",
     "text": [
      "change\n"
     ]
    },
    {
     "name": "stderr",
     "output_type": "stream",
     "text": [
      "Processing train:  14%|█▍        | 379/2680 [14:51<2:09:40,  3.38s/it] "
     ]
    },
    {
     "name": "stdout",
     "output_type": "stream",
     "text": [
      "change\n"
     ]
    },
    {
     "name": "stderr",
     "output_type": "stream",
     "text": [
      "Processing train:  16%|█▋        | 436/2680 [16:06<37:51,  1.01s/it]  "
     ]
    },
    {
     "name": "stdout",
     "output_type": "stream",
     "text": [
      "change\n"
     ]
    },
    {
     "name": "stderr",
     "output_type": "stream",
     "text": [
      "Processing train:  18%|█▊        | 471/2680 [19:23<1:30:55,  2.47s/it] \n"
     ]
    },
    {
     "ename": "KeyboardInterrupt",
     "evalue": "",
     "output_type": "error",
     "traceback": [
      "\u001b[0;31m---------------------------------------------------------------------------\u001b[0m",
      "\u001b[0;31mKeyboardInterrupt\u001b[0m                         Traceback (most recent call last)",
      "Cell \u001b[0;32mIn[24], line 2\u001b[0m\n\u001b[1;32m      1\u001b[0m root_dir \u001b[38;5;241m=\u001b[39m \u001b[38;5;124m\"\u001b[39m\u001b[38;5;124m/home/vhaardt/Desktop/ShadowRemoval/data/SRD\u001b[39m\u001b[38;5;124m\"\u001b[39m\n\u001b[0;32m----> 2\u001b[0m \u001b[43mprocess_images\u001b[49m\u001b[43m(\u001b[49m\u001b[43mroot_dir\u001b[49m\u001b[43m)\u001b[49m\n",
      "Cell \u001b[0;32mIn[23], line 23\u001b[0m, in \u001b[0;36mprocess_images\u001b[0;34m(root_dir)\u001b[0m\n\u001b[1;32m     20\u001b[0m mask_to_check \u001b[38;5;241m=\u001b[39m np\u001b[38;5;241m.\u001b[39mexpand_dims(shadow_mask, axis\u001b[38;5;241m=\u001b[39m\u001b[38;5;241m2\u001b[39m)\n\u001b[1;32m     22\u001b[0m \u001b[38;5;66;03m# Se il mask non rispetta il controllo, calcola una nuova shadow mask\u001b[39;00m\n\u001b[0;32m---> 23\u001b[0m \u001b[38;5;28;01mif\u001b[39;00m np\u001b[38;5;241m.\u001b[39mall(\u001b[43mprocess_mask\u001b[49m\u001b[43m(\u001b[49m\u001b[43mmask_to_check\u001b[49m\u001b[43m,\u001b[49m\u001b[43m \u001b[49m\u001b[43mmin_size\u001b[49m\u001b[38;5;241;43m=\u001b[39;49m\u001b[38;5;241;43m100\u001b[39;49m\u001b[43m,\u001b[49m\u001b[43m \u001b[49m\u001b[43mmax_size\u001b[49m\u001b[38;5;241;43m=\u001b[39;49m\u001b[38;5;241;43m100\u001b[39;49m\u001b[43m)\u001b[49m \u001b[38;5;241m==\u001b[39m \u001b[38;5;241m0\u001b[39m):\n\u001b[1;32m     24\u001b[0m     \u001b[38;5;28mprint\u001b[39m(\u001b[38;5;124m\"\u001b[39m\u001b[38;5;124mchange\u001b[39m\u001b[38;5;124m\"\u001b[39m)\n\u001b[1;32m     25\u001b[0m     \u001b[38;5;66;03m# Percorsi per le immagini shadow e shadow-free\u001b[39;00m\n",
      "File \u001b[0;32m~/Desktop/ShadowRemoval/code/Shadow-Removal-1/utils/utils_io.py:36\u001b[0m, in \u001b[0;36mprocess_mask\u001b[0;34m(mask, min_size, max_size)\u001b[0m\n\u001b[1;32m     35\u001b[0m \u001b[38;5;28;01mdef\u001b[39;00m \u001b[38;5;21mprocess_mask\u001b[39m(mask, min_size\u001b[38;5;241m=\u001b[39m\u001b[38;5;241m100\u001b[39m, max_size\u001b[38;5;241m=\u001b[39m\u001b[38;5;241m100\u001b[39m):\n\u001b[0;32m---> 36\u001b[0m     cleaned_mask \u001b[38;5;241m=\u001b[39m \u001b[43mremove_small_objects\u001b[49m\u001b[43m(\u001b[49m\u001b[43mmask\u001b[49m\u001b[43m,\u001b[49m\u001b[43m \u001b[49m\u001b[43mmin_size\u001b[49m\u001b[43m)\u001b[49m\n\u001b[1;32m     37\u001b[0m     final_mask \u001b[38;5;241m=\u001b[39m fill_small_holes(cleaned_mask, max_size)\n\u001b[1;32m     38\u001b[0m     \u001b[38;5;28;01mreturn\u001b[39;00m final_mask\n",
      "File \u001b[0;32m~/Desktop/ShadowRemoval/code/Shadow-Removal-1/utils/utils_io.py:17\u001b[0m, in \u001b[0;36mremove_small_objects\u001b[0;34m(mask, min_size)\u001b[0m\n\u001b[1;32m     15\u001b[0m \u001b[38;5;28;01mfor\u001b[39;00m i \u001b[38;5;129;01min\u001b[39;00m \u001b[38;5;28mrange\u001b[39m(\u001b[38;5;241m1\u001b[39m, num_features \u001b[38;5;241m+\u001b[39m \u001b[38;5;241m1\u001b[39m):\n\u001b[1;32m     16\u001b[0m     component \u001b[38;5;241m=\u001b[39m (labeled_mask \u001b[38;5;241m==\u001b[39m i)\n\u001b[0;32m---> 17\u001b[0m     \u001b[38;5;28;01mif\u001b[39;00m \u001b[43mnp\u001b[49m\u001b[38;5;241;43m.\u001b[39;49m\u001b[43msum\u001b[49m\u001b[43m(\u001b[49m\u001b[43mcomponent\u001b[49m\u001b[43m)\u001b[49m \u001b[38;5;241m>\u001b[39m\u001b[38;5;241m=\u001b[39m min_size:\n\u001b[1;32m     18\u001b[0m         output_mask \u001b[38;5;241m=\u001b[39m np\u001b[38;5;241m.\u001b[39mlogical_or(output_mask, component)\n\u001b[1;32m     20\u001b[0m \u001b[38;5;28;01mreturn\u001b[39;00m output_mask\n",
      "File \u001b[0;32m<__array_function__ internals>:200\u001b[0m, in \u001b[0;36msum\u001b[0;34m(*args, **kwargs)\u001b[0m\n",
      "File \u001b[0;32m~/.local/lib/python3.8/site-packages/numpy/core/fromnumeric.py:2324\u001b[0m, in \u001b[0;36msum\u001b[0;34m(a, axis, dtype, out, keepdims, initial, where)\u001b[0m\n\u001b[1;32m   2321\u001b[0m         \u001b[38;5;28;01mreturn\u001b[39;00m out\n\u001b[1;32m   2322\u001b[0m     \u001b[38;5;28;01mreturn\u001b[39;00m res\n\u001b[0;32m-> 2324\u001b[0m \u001b[38;5;28;01mreturn\u001b[39;00m \u001b[43m_wrapreduction\u001b[49m\u001b[43m(\u001b[49m\u001b[43ma\u001b[49m\u001b[43m,\u001b[49m\u001b[43m \u001b[49m\u001b[43mnp\u001b[49m\u001b[38;5;241;43m.\u001b[39;49m\u001b[43madd\u001b[49m\u001b[43m,\u001b[49m\u001b[43m \u001b[49m\u001b[38;5;124;43m'\u001b[39;49m\u001b[38;5;124;43msum\u001b[39;49m\u001b[38;5;124;43m'\u001b[39;49m\u001b[43m,\u001b[49m\u001b[43m \u001b[49m\u001b[43maxis\u001b[49m\u001b[43m,\u001b[49m\u001b[43m \u001b[49m\u001b[43mdtype\u001b[49m\u001b[43m,\u001b[49m\u001b[43m \u001b[49m\u001b[43mout\u001b[49m\u001b[43m,\u001b[49m\u001b[43m \u001b[49m\u001b[43mkeepdims\u001b[49m\u001b[38;5;241;43m=\u001b[39;49m\u001b[43mkeepdims\u001b[49m\u001b[43m,\u001b[49m\n\u001b[1;32m   2325\u001b[0m \u001b[43m                      \u001b[49m\u001b[43minitial\u001b[49m\u001b[38;5;241;43m=\u001b[39;49m\u001b[43minitial\u001b[49m\u001b[43m,\u001b[49m\u001b[43m \u001b[49m\u001b[43mwhere\u001b[49m\u001b[38;5;241;43m=\u001b[39;49m\u001b[43mwhere\u001b[49m\u001b[43m)\u001b[49m\n",
      "File \u001b[0;32m~/.local/lib/python3.8/site-packages/numpy/core/fromnumeric.py:86\u001b[0m, in \u001b[0;36m_wrapreduction\u001b[0;34m(obj, ufunc, method, axis, dtype, out, **kwargs)\u001b[0m\n\u001b[1;32m     83\u001b[0m         \u001b[38;5;28;01melse\u001b[39;00m:\n\u001b[1;32m     84\u001b[0m             \u001b[38;5;28;01mreturn\u001b[39;00m reduction(axis\u001b[38;5;241m=\u001b[39maxis, out\u001b[38;5;241m=\u001b[39mout, \u001b[38;5;241m*\u001b[39m\u001b[38;5;241m*\u001b[39mpasskwargs)\n\u001b[0;32m---> 86\u001b[0m \u001b[38;5;28;01mreturn\u001b[39;00m \u001b[43mufunc\u001b[49m\u001b[38;5;241;43m.\u001b[39;49m\u001b[43mreduce\u001b[49m\u001b[43m(\u001b[49m\u001b[43mobj\u001b[49m\u001b[43m,\u001b[49m\u001b[43m \u001b[49m\u001b[43maxis\u001b[49m\u001b[43m,\u001b[49m\u001b[43m \u001b[49m\u001b[43mdtype\u001b[49m\u001b[43m,\u001b[49m\u001b[43m \u001b[49m\u001b[43mout\u001b[49m\u001b[43m,\u001b[49m\u001b[43m \u001b[49m\u001b[38;5;241;43m*\u001b[39;49m\u001b[38;5;241;43m*\u001b[39;49m\u001b[43mpasskwargs\u001b[49m\u001b[43m)\u001b[49m\n",
      "\u001b[0;31mKeyboardInterrupt\u001b[0m: "
     ]
    }
   ],
   "source": [
    "root_dir = \"/home/vhaardt/Desktop/ShadowRemoval/data/SRD\"\n",
    "process_images(root_dir)"
   ]
  }
 ],
 "metadata": {
  "kernelspec": {
   "display_name": "Python 3",
   "language": "python",
   "name": "python3"
  },
  "language_info": {
   "codemirror_mode": {
    "name": "ipython",
    "version": 3
   },
   "file_extension": ".py",
   "mimetype": "text/x-python",
   "name": "python",
   "nbconvert_exporter": "python",
   "pygments_lexer": "ipython3",
   "version": "3.8.10"
  }
 },
 "nbformat": 4,
 "nbformat_minor": 2
}
